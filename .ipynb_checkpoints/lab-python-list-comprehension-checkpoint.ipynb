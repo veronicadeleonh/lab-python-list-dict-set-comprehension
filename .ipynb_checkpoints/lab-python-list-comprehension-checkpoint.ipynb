{
 "cells": [
  {
   "cell_type": "markdown",
   "id": "25d7736c-ba17-4aff-b6bb-66eba20fbf4e",
   "metadata": {},
   "source": [
    "# Lab | List, Dict and Set Comprehension"
   ]
  },
  {
   "cell_type": "markdown",
   "id": "7dd3cbde-675a-4b81-92c3-f728846dbe06",
   "metadata": {},
   "source": [
    "## Exercise: Managing Customer Orders Optimized with Comprehension"
   ]
  },
  {
   "cell_type": "markdown",
   "id": "5d500160-2fb7-4777-b5e4-09d45ebaf328",
   "metadata": {},
   "source": [
    "In the previous exercise, you developed a program to manage customer orders and inventory. Now, let's take it a step further and incorporate comprehension into your code.\n",
    "\n",
    "Follow the steps below to complete the exercise:\n",
    "\n",
    "1. Review your code from the previous exercise and identify areas where you can apply comprehension to simplify and streamline your code. \n",
    "\n",
    "    - *Hint: Apply it to initialize inventory, updating the inventory and printing the updated inventory.*\n",
    "    \n",
    "    - For example, in initializing the inventory, we could have:\n",
    "    \n",
    "        ```python\n",
    "        def initialize_inventory(products):\n",
    "            inventory = {product: int(input(f\"Enter the quantity of {product}s available: \")) for product in products}\n",
    "            return inventory\n",
    "\n",
    "        ```\n",
    "<br>\n",
    "    \n",
    "    \n",
    "2. Modify the function get_customer_orders so it prompts the user to enter the number of customer orders and gathers the product names using a loop and user input. Use comprehension.\n",
    "\n",
    "3. Add a new function to calculate the total price of the customer order. For each product in customer_orders, prompt the user to enter the price of that product. Use comprehension to calculate the total price. Note: assume that the user can only have 1 unit of each product.\n",
    "\n",
    "4. Modify the update_inventory function to remove the product from the inventory if its quantity becomes zero after fulfilling the customer orders. Use comprehension to filter out the products with a quantity of zero from the inventory.\n",
    "\n",
    "5. Print the total price of the customer order.\n",
    "\n",
    "Your code should produce output similar to the following:\n",
    "\n",
    "```python\n",
    "Enter the quantity of t-shirts available:  5\n",
    "Enter the quantity of mugs available:  4\n",
    "Enter the quantity of hats available:  3\n",
    "Enter the quantity of books available:  2\n",
    "Enter the quantity of keychains available:  1\n",
    "Enter the number of customer orders:  2\n",
    "Enter the name of a product that a customer wants to order:  hat\n",
    "Enter the name of a product that a customer wants to order:  keychain\n",
    "\n",
    "Order Statistics:\n",
    "Total Products Ordered: 2\n",
    "Percentage of Unique Products Ordered: 40.0\n",
    "\n",
    "Updated Inventory:\n",
    "t-shirt: 5\n",
    "mug: 4\n",
    "hat: 2\n",
    "book: 2\n",
    "Enter the price of keychain:  5\n",
    "Enter the price of hat:  10\n",
    "Total Price: 15.0\n",
    "\n",
    "```\n"
   ]
  },
  {
   "cell_type": "code",
   "execution_count": 152,
   "id": "2313d5d7-319b-4152-98aa-7902f8317eae",
   "metadata": {},
   "outputs": [],
   "source": [
    "from pprint import pprint"
   ]
  },
  {
   "cell_type": "code",
   "execution_count": 13,
   "id": "d1172f50-c34d-4944-ab19-6c1b5cffd135",
   "metadata": {},
   "outputs": [],
   "source": [
    "#1\n",
    "\n",
    "products = [\"t-shirt\", \"mug\", \"hat\", \"book\", \"keychain\"]\n",
    "\n",
    "\n",
    "def initialize_inventory(products):\n",
    "            inventory = {product: int(input(f\"Enter the quantity of {product}s available: \")) for product in products}\n",
    "            return inventory"
   ]
  },
  {
   "cell_type": "code",
   "execution_count": 17,
   "id": "e8d6b73a-48f7-4118-8182-79d9dee63cf0",
   "metadata": {},
   "outputs": [
    {
     "name": "stdin",
     "output_type": "stream",
     "text": [
      "Enter the quantity of t-shirts available:  1\n",
      "Enter the quantity of mugs available:  1\n",
      "Enter the quantity of hats available:  1\n",
      "Enter the quantity of books available:  1\n",
      "Enter the quantity of keychains available:  1\n"
     ]
    },
    {
     "name": "stdout",
     "output_type": "stream",
     "text": [
      "Inventory: {'t-shirt': 1, 'mug': 1, 'hat': 1, 'book': 1, 'keychain': 1}\n"
     ]
    }
   ],
   "source": [
    "inventory = initialize_inventory(products)\n",
    "print(f\"Inventory: {inventory}\")"
   ]
  },
  {
   "cell_type": "code",
   "execution_count": 5,
   "id": "e8d47430-8a7f-4313-8e24-a7619dd9c1b8",
   "metadata": {},
   "outputs": [],
   "source": [
    "# 2 Modify the function get_customer_orders so it prompts the user to enter the number of customer orders \n",
    "# and gathers the product names using a loop and user input. Use comprehension.\n",
    "\n",
    "def get_customer_orders():\n",
    "\n",
    "    number_of_customer_orders = int(input(\"Enter the number of customer orders: \"))\n",
    "\n",
    "    customer_orders = [(input(\"Enter the name of a product that a customer wants to order:\")) for i in range(1, number_of_customer_orders + 1)]\n",
    "        \n",
    "    return(customer_orders)"
   ]
  },
  {
   "cell_type": "code",
   "execution_count": 110,
   "id": "bd1b9abe-abdb-4d4d-ad6b-93c4d7d3961a",
   "metadata": {},
   "outputs": [
    {
     "name": "stdin",
     "output_type": "stream",
     "text": [
      "Enter the number of customer orders:  1\n",
      "Enter the name of a product that a customer wants to order: hat\n"
     ]
    },
    {
     "name": "stdout",
     "output_type": "stream",
     "text": [
      "Customer orders: ['hat']\n"
     ]
    }
   ],
   "source": [
    "customer_orders = get_customer_orders()\n",
    "print(f\"Customer orders: {customer_orders}\")"
   ]
  },
  {
   "cell_type": "code",
   "execution_count": 112,
   "id": "606bbb6c-52a3-4a95-b17e-b7dc37f724a4",
   "metadata": {},
   "outputs": [],
   "source": [
    "# 3 Add a new function to calculate the total price of the customer order. For each product in customer_orders, \n",
    "# prompt the user to enter the price of that product. Use comprehension to calculate the total price. \n",
    "# Note: assume that the user can only have 1 unit of each product.\n",
    "\n",
    "def total_price_customer_orders(customer_orders):\n",
    "    product_price_input = {product: float(input(f\"Enter the price of {product}\")) for product in customer_orders}\n",
    "    \n",
    "    return product_price_input\n",
    "    "
   ]
  },
  {
   "cell_type": "code",
   "execution_count": 116,
   "id": "2beb114c-4c70-4a4c-889d-c948c357d194",
   "metadata": {},
   "outputs": [
    {
     "name": "stdin",
     "output_type": "stream",
     "text": [
      "Enter the price of hat 23.1\n"
     ]
    },
    {
     "name": "stdout",
     "output_type": "stream",
     "text": [
      "Total Price: 23.1\n"
     ]
    }
   ],
   "source": [
    "product_price_input = total_price_customer_orders(customer_orders)\n",
    "total_price_customer_orders = sum(product_price_input.values())\n",
    "\n",
    "print(f\"Total Price: {total_price_customer_orders}\")"
   ]
  },
  {
   "cell_type": "code",
   "execution_count": null,
   "id": "13834866-6f72-4927-997d-d03f83e849cb",
   "metadata": {},
   "outputs": [],
   "source": [
    "# 4 Modify the update_inventory function to remove the product from the inventory if its quantity becomes \n",
    "# zero after fulfilling the customer orders. Use comprehension to filter out the products with a quantity \n",
    "# of zero from the inventory.\n",
    "\n",
    "def update_inventory(customer_orders, inventory):\n",
    "\n",
    "    for product in customer_orders:\n",
    "        if product in inventory:\n",
    "            if inventory[product] > 0:\n",
    "                inventory[product] -= 1\n",
    "\n",
    "    print(inventory.items())\n",
    "    \n",
    "    inventory = { key: value for key, value in inventory.items() if value > 0 }\n",
    "                \n",
    "    return inventory"
   ]
  },
  {
   "cell_type": "code",
   "execution_count": 31,
   "id": "5b9b29c3-9b43-4331-aa46-127d0ed19bc3",
   "metadata": {},
   "outputs": [
    {
     "name": "stdout",
     "output_type": "stream",
     "text": [
      "dict_items([('t-shirt', 1), ('mug', 1), ('hat', 0), ('book', 0), ('keychain', 1)])\n",
      "Updated inventory: {'t-shirt': 1, 'mug': 1, 'keychain': 1}\n"
     ]
    }
   ],
   "source": [
    "update_inventory = update_inventory(customer_orders, inventory)\n",
    "print(f\"Updated inventory: {update_inventory}\")"
   ]
  },
  {
   "cell_type": "code",
   "execution_count": 122,
   "id": "a3bd79e5-d273-4716-8c00-15ee1475acea",
   "metadata": {},
   "outputs": [
    {
     "name": "stdout",
     "output_type": "stream",
     "text": [
      "Order Statistics\n",
      "Total products ordered: 1\n",
      "Percentage of Unique Products Ordered: \n",
      "\n",
      "\n",
      "Updated Inventory:\n",
      "t-shirt: 1\n",
      "mug: 1\n",
      "keychain: 1\n",
      "Enter the price of hat: 23.1\n",
      "Total Price: 23.1\n"
     ]
    }
   ],
   "source": [
    "# 5 Print the total price of the customer order.\n",
    "\n",
    "print(\"Order Statistics\")\n",
    "print(f\"Total products ordered: {len(customer_orders)}\")\n",
    "print(f\"Percentage of Unique Products Ordered: \")\n",
    "print(\"\\n\")\n",
    "print(\"Updated Inventory:\")\n",
    "{print(f\"{product}: {price}\") for product, price in update_inventory.items()}\n",
    "{print(f\"Enter the price of {product}: {price}\") for product, price in product_price_input.items() }\n",
    "print(f\"Total Price: {total_price_customer_orders}\")\n",
    "\n"
   ]
  }
 ],
 "metadata": {
  "kernelspec": {
   "display_name": "Python 3 (ipykernel)",
   "language": "python",
   "name": "python3"
  },
  "language_info": {
   "codemirror_mode": {
    "name": "ipython",
    "version": 3
   },
   "file_extension": ".py",
   "mimetype": "text/x-python",
   "name": "python",
   "nbconvert_exporter": "python",
   "pygments_lexer": "ipython3",
   "version": "3.12.7"
  }
 },
 "nbformat": 4,
 "nbformat_minor": 5
}
